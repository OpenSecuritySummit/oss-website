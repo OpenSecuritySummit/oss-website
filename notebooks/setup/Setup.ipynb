{
 "cells": [
  {
   "cell_type": "markdown",
   "metadata": {},
   "source": [
    "## Setup scripts to run on a new Jupyter instance\n",
    "\n",
    "todo: execute this notebook on jupyter start up"
   ]
  },
  {
   "cell_type": "markdown",
   "metadata": {},
   "source": [
    "## Setup scripts to run on a new Jupyter instance\n",
    "\n",
    "todo: execute this notebook on jupyter start up\n",
    "    \n",
    "### step: install dependencies"
   ]
  },
  {
   "cell_type": "code",
   "execution_count": null,
   "metadata": {},
   "outputs": [],
   "source": [
    "!pip install ipympl python-frontmatter qgrid pbx_gs_python_utils \n",
    "\n",
    "!jupyter nbextension enable --py --sys-prefix qgrid\n",
    "\n"
   ]
  },
  {
   "cell_type": "code",
   "execution_count": null,
   "metadata": {},
   "outputs": [],
   "source": [
    "!pip uninstall -y pandas  #matplotlib\n",
    "!pip install matplotlib\n",
    "!pip install pandas"
   ]
  },
  {
   "cell_type": "code",
   "execution_count": null,
   "metadata": {},
   "outputs": [],
   "source": []
  },
  {
   "cell_type": "markdown",
   "metadata": {},
   "source": [
    "### step: setup git\n",
    "\n",
    "Enable this enviroment to push to your GitHub fork of this repo\n",
    "\n",
    "_note don't run this on the local docker machine_"
   ]
  },
  {
   "cell_type": "code",
   "execution_count": null,
   "metadata": {},
   "outputs": [],
   "source": [
    "# !mkdir /home/jovyan/.ssh\n",
    "# # add github ssh signature to known_hosts\n",
    "# !echo \"github.com ssh-rsa AAAAB3NzaC1yc2EAAAABIwAAAQEAq2A7hRGmdnm9tUDbO9IDSwBK6TbQa+PXYPCPy6rbTrTtw7PHkccKrpp0yVhp5HdEIcKr6pLlVDBfOLX9QUsyCOV0wzfjIJNlGEYsdlLJizHhbn2mUjvSAHQqZETYP81eFzLQNnPHt4EVVUh7VfDESU84KezmD5QlWpXLmvU31/yMf+Se8xhHTvKSCZIFImWwoG6mbUoWf9nzpIoaSjB+weqqUUmpaaasXVal72J+UX2B+2RPW3RcT0eOzQgqlJL3RKrTJvdsjE3JEAvGq3lGHSZXy28G3skua2SmVi/w4yCE6gbODqnTWlg7+wC604ydGXA8VJiS5ap43JXiUFFAaQ==\" >> /home/jovyan/.ssh/known_hosts\n",
    "\n",
    "# !ssh-keygen -f /home/jovyan/.ssh/id_rsa -t rsa -N ''\n",
    "\n",
    "# !cat /home/jovyan/.ssh/id_rsa.pub\n",
    "\n",
    "# !git config --global user.email \"oss_bot@open-security-summit.org\"\n",
    "# !git config --global user.name \"oss_bot\"\n",
    "\n",
    "# !git remote set-url origin git@github.com:OpenSecuritySummit/oss2019.git\n",
    "    "
   ]
  },
  {
   "cell_type": "code",
   "execution_count": null,
   "metadata": {},
   "outputs": [],
   "source": [
    "# !git status\n",
    "# !git add {file} # note: need to add a number of the jupyter notebook/linux tmp folders (like .ssh and .bash and .jupyter) to .gitignore\n",
    "# !git commit -m 'files created/changed in mybinder'\n",
    "\n",
    "# ### note: command below didn't work , looks like mybinder is blocking ssh\n",
    "# !git push origin main"
   ]
  }
 ],
 "metadata": {
  "kernelspec": {
   "display_name": "Python 3 (ipykernel)",
   "language": "python",
   "name": "python3"
  },
  "language_info": {
   "codemirror_mode": {
    "name": "ipython",
    "version": 3
   },
   "file_extension": ".py",
   "mimetype": "text/x-python",
   "name": "python",
   "nbconvert_exporter": "python",
   "pygments_lexer": "ipython3",
   "version": "3.9.2"
  }
 },
 "nbformat": 4,
 "nbformat_minor": 2
}
